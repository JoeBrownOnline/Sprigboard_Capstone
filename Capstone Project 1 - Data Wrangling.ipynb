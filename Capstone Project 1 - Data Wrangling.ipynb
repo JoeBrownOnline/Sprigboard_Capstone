{
 "cells": [
  {
   "cell_type": "markdown",
   "metadata": {},
   "source": [
    "### Capstone Project 1 - Data Wrangling"
   ]
  },
  {
   "cell_type": "markdown",
   "metadata": {},
   "source": [
    "Five of the seven authors that I will be using for my Capstone project have their collection's of novels available for free on Project Gutenberg. While Prject Gutenberg does allow for download directly from their website, there is a python package *Gutenberg* that can download the text from the command line.\n",
    "\n",
    "*Gutenberg* can be downloaded from [Pypi - Gutenberg](https://pypi.python.org/pypi/Gutenberg) or directly in the terminal:\n",
    "\n",
    ">pip install gutenberg\n",
    "\n",
    "The *Gutenberg* package relies on the BSD-DB, Berkeley Database, which was removed from the Python library after 2.7.\n",
    "Since I am using the most current version of Python, I needed to install BSD-DB manually from [Pythonlibs](http://www.lfd.uci.edu/~gohlke/pythonlibs/).\n",
    "After downloading the correct .whl file, I used:\n",
    "\n",
    ">pip install bsddb3‑6.2.4‑cp36‑cp36m‑win_amd64.whl\n",
    "\n",
    "Now I am ready to start downloading texts directly from Project Gutenberg within the command line.\n",
    "\n",
    "Below, I will go through the process I took to acquire and then clean the data.\n"
   ]
  },
  {
   "cell_type": "code",
   "execution_count": 1,
   "metadata": {
    "collapsed": true
   },
   "outputs": [],
   "source": [
    "from gutenberg.acquire import load_etext"
   ]
  },
  {
   "cell_type": "markdown",
   "metadata": {},
   "source": [
    "Each text on Project Gutenberg has an identifing number.\n",
    "\n",
    "The five authors I am using from Project Gutenberg are:\n",
    "-  Jane Austen\n",
    "-  Joseph Conrad\n",
    "-  Homer\n",
    "-  James Joyce\n",
    "-  Mark Twain\n",
    "\n",
    "I went through each author and collected the identifing number for each novel that I will be using for the capstone project.\n"
   ]
  },
  {
   "cell_type": "code",
   "execution_count": 2,
   "metadata": {
    "collapsed": false
   },
   "outputs": [],
   "source": [
    "from gutenberg.cleanup import strip_headers"
   ]
  },
  {
   "cell_type": "markdown",
   "metadata": {},
   "source": [
    "*strip_headers* removes the Prject Gutenberg headers and footers included with each text."
   ]
  },
  {
   "cell_type": "code",
   "execution_count": 7,
   "metadata": {
    "collapsed": false
   },
   "outputs": [
    {
     "name": "stdout",
     "output_type": "stream",
     "text": [
      "A Portrait of the Artist as a Young Man\r\n",
      "\r\n",
      "\r\n",
      "by\r\n",
      "\r\n",
      "James Joyce\r\n",
      "\r\n",
      "\r\n",
      "<p>\r\n",
      "_\"Et ignotas animum dimittit in artes.\"\r\n",
      "Ovid, Metamorphoses, VIII., 18._\r\n",
      "</p>\r\n",
      "\r\n",
      "Chapter 1\r\n",
      "\r\n",
      "\r\n",
      "Once upon a time and a very good time it was there was a moocow coming\r\n",
      "down along the road and this moocow that was coming down along the road\r\n",
      "met a nicens little boy named baby tuckoo...\r\n",
      "\r\n",
      "His father told him that story: his father looked at him through a\r\n",
      "glass: he had a hairy face.\r\n",
      "\r\n",
      "He was baby tuckoo. The moocow came down the road where Betty Byrne\r\n",
      "lived: she sold lemon platt.\r\n",
      "\r\n",
      "    O, the wild rose blossoms\r\n",
      "    On the little green place.\r\n",
      "\r\n",
      "He sang that song. That was his song.\r\n",
      "\r\n",
      "    O, the green wothe botheth.\r\n",
      "\r\n",
      "When you wet the bed first it is warm then it gets cold. His mother put\r\n",
      "on the oilsheet. That had the queer smell.\r\n",
      "\r\n",
      "His mother had a nicer smell than his father. She played on the piano\r\n",
      "the sailor's hornpipe for him to dance. He danced:\r\n",
      "\r\n",
      "    Tralala lala,\r\n",
      "    Tralala tralaladdy,\r\n",
      "    Tra\n"
     ]
    }
   ],
   "source": [
    "#example acqusition and cleaning of text\n",
    "text = strip_headers(load_etext(4217)).strip()\n",
    "print(text[:1000])"
   ]
  },
  {
   "cell_type": "markdown",
   "metadata": {},
   "source": [
    "*strip_headers* does a good job of removing unnecessary information from the text, but it only removes the Project Gutenberg header and footer. More cleaning may be needed before doing any type of analysis."
   ]
  },
  {
   "cell_type": "markdown",
   "metadata": {},
   "source": [
    "While I showed the example inside the notebook, I acquired the data via the terminal using the following code.\n",
    "\n",
    "> python -m gutenberg.acquire.text 4217 portrait-raw.txt\n",
    "\n",
    "After acquiring the .txt file, I ran *gutenberg.cleanup.strip_headers* on the raw and change the name to *-clean.txt\n",
    "\n",
    "> python -m gutenberg.cleanup.strip_headers portrait-raw.txt portrait-clean.txt\n",
    "\n",
    "These files were organzined by author and stored in my corpora folder."
   ]
  },
  {
   "cell_type": "markdown",
   "metadata": {},
   "source": [
    "The next package I used was *Chapterize* by [Jonathan Reeve](https://github.com/JonathanReeve/chapterize).\n",
    "\n",
    "Excerpt from Jonathan Reeve's github page:\n",
    "\n",
    ">This command-line tool breaks up a plain text book into chapters. It works especially well with Project Gutenberg plain text ebooks. It may also be used to strip metatextual text from a book, such as tables of contents, headings, and Project Gutenberg licenses. This may be useful for preparing an ebook for computational text analysis. Just use the --nochapters option."
   ]
  },
  {
   "cell_type": "markdown",
   "metadata": {
    "collapsed": true
   },
   "source": [
    "Run Chapterize on book:  \n",
    ">chapterize portrait-clean.txt\n",
    "\n",
    "Run Chapterize on book, setting the --nochapters flag:  \n",
    ">chapterize portrait-clean.txt --nochapters\n"
   ]
  },
  {
   "cell_type": "markdown",
   "metadata": {},
   "source": [
    "This package did not work on all novels, such as *Dubliners* by James Joyce, because it failed to detect more than 3 chapters. I will have to find a different solution for the books that still contain metatextual text."
   ]
  }
 ],
 "metadata": {
  "kernelspec": {
   "display_name": "Python 3",
   "language": "python",
   "name": "python3"
  },
  "language_info": {
   "codemirror_mode": {
    "name": "ipython",
    "version": 3
   },
   "file_extension": ".py",
   "mimetype": "text/x-python",
   "name": "python",
   "nbconvert_exporter": "python",
   "pygments_lexer": "ipython3",
   "version": "3.6.0"
  }
 },
 "nbformat": 4,
 "nbformat_minor": 2
}
