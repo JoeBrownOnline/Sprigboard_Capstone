{
 "cells": [
  {
   "cell_type": "markdown",
   "metadata": {},
   "source": [
    "# Capstone Project Proposal"
   ]
  },
  {
   "cell_type": "markdown",
   "metadata": {},
   "source": [
    "## 1. What is the problem you want to solve?\n",
    "\n",
    "I propose using machine learning to identify the authors of unknown texts."
   ]
  },
  {
   "cell_type": "markdown",
   "metadata": {},
   "source": [
    "## 2. Who is your client and why do they care about this problem?\n",
    "\n",
    "There could be many different clients who would be interested in having the ability to identify the author of a text.\n",
    "\n",
    "* Academic institutions could use it to better combat plagiarism.\n",
    "* Identifying unattributed texts would be of interest to historians and archeologists.\n",
    "* Authors writing under psydeonyms could be easier to identify."
   ]
  },
  {
   "cell_type": "markdown",
   "metadata": {},
   "source": [
    "## 3. What data are you going to use for this? How will you aquire this data?\n",
    "\n",
    "Using both the library at [Project Gutenberg](https://www.gutenberg.org/wiki/Main_Page), as well as, some of my own personal colletion of texts, I will gather a corpus of authors and take samples of thier writing from their various novels.\n",
    "\n",
    "Project Gutenberg provides plain text flies of e-books for free.\n",
    "The e-books from my personal collection will have to be converted to plain text.\n",
    "\n",
    "As of now, the list of authors will include:\n",
    "\n",
    "* Ernest Hemingway\n",
    "* H.P. Lovecraft\n",
    "* Homer\n",
    "* James Joyce\n",
    "* Jane Austin\n",
    "\n",
    "Each author has a distinct writing style that should be statistically identifiable."
   ]
  },
  {
   "cell_type": "markdown",
   "metadata": {},
   "source": [
    "## 4. In brief, outline your approach to solving this problem(knowing it might change later).\n",
    "\n",
    "To solve this problem, I propose creating a machine learning system that will attribute a sample text to one of a series of know authors.\n",
    "\n",
    "In order to do this, I plan on building on the work already done by Stanko, Lu, and Hsu, [Whose Book is it Anyway? Using Machine Learning to Identify the Author of Unknown Texts](http://cs229.stanford.edu/proj2013/StankoLuHsu-AuthorIdentification.pdf), and use a combination of shallow text analysis and supervised maching learning.\n",
    "\n",
    "By focusing on vocabulary and syntax as my primary features, I should be able to achieve a fast runtime and avoid the more computationally expensive features.\n",
    "\n",
    "Potential Features:\n",
    "* Vocabulary\n",
    "    * Richness - Total number of unique words\n",
    "    * Hapax Legomena - Number of words that occur exactly once\n",
    "    * Dis Legomena - Number of words that occur exaclty twice\n",
    "    * Character Prevalence - Number of times main character's name is used.\n",
    "\n",
    "* Syntax\n",
    "    * Sentence Length\n",
    "    * Word Length\n",
    "    \n",
    "The possibility of adding or subtracting features is something that I will keep in mind as I move forward with the project.    "
   ]
  },
  {
   "cell_type": "markdown",
   "metadata": {},
   "source": [
    "## 5. What are your deliverables?\n",
    "\n",
    "Code, Ipython notebook or pdf report\n",
    "\n",
    "Potentially a Youtube presentation.\n"
   ]
  },
  {
   "cell_type": "code",
   "execution_count": null,
   "metadata": {
    "collapsed": true
   },
   "outputs": [],
   "source": []
  }
 ],
 "metadata": {
  "kernelspec": {
   "display_name": "Python 3",
   "language": "python",
   "name": "python3"
  },
  "language_info": {
   "codemirror_mode": {
    "name": "ipython",
    "version": 3
   },
   "file_extension": ".py",
   "mimetype": "text/x-python",
   "name": "python",
   "nbconvert_exporter": "python",
   "pygments_lexer": "ipython3",
   "version": "3.6.0"
  }
 },
 "nbformat": 4,
 "nbformat_minor": 2
}
