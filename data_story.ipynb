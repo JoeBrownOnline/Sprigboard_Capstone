{
 "cells": [
  {
   "cell_type": "code",
   "execution_count": 1,
   "metadata": {
    "collapsed": true
   },
   "outputs": [],
   "source": [
    "import pandas as pd\n",
    "import numpy as np\n",
    "import nltk\n",
    "import glob\n",
    "import os\n",
    "import re"
   ]
  },
  {
   "cell_type": "code",
   "execution_count": 2,
   "metadata": {
    "collapsed": true
   },
   "outputs": [],
   "source": [
    "sentence_tokenizer = nltk.data.load('tokenizers/punkt/english.pickle')\n",
    "word_tokenizer = nltk.tokenize.RegexpTokenizer(r'\\w+')"
   ]
  },
  {
   "cell_type": "code",
   "execution_count": 3,
   "metadata": {
    "collapsed": true
   },
   "outputs": [],
   "source": [
    "#Load data\n",
    "data_folder = r\"./\"\n",
    "files = sorted(glob.glob(os.path.join(data_folder, \"*.txt\")))\n",
    "books = []\n",
    "for fn in files:\n",
    "\twith open(fn, 'r', encoding='utf8') as f:\n",
    "\t\tbooks.append(f.read().lower().replace(\"\\xa0\", \" \").replace(\"\\n\", \" \").replace(\"\\ufeff\", \" \"))\n",
    "all_text = ' '.join(books)"
   ]
  },
  {
   "cell_type": "code",
   "execution_count": 4,
   "metadata": {
    "collapsed": true
   },
   "outputs": [],
   "source": [
    "def build_stop_words_set():\n",
    "    '''\n",
    "    Build set of stop words to ignore.\n",
    "    '''\n",
    "\n",
    "    # source: http://jmlr.org/papers/volume5/lewis04a/a11-smart-stop-list/english.stop\n",
    "    return set(open(path('smartstop.txt'), 'r').read().splitlines())"
   ]
  },
  {
   "cell_type": "code",
   "execution_count": 5,
   "metadata": {
    "collapsed": true
   },
   "outputs": [],
   "source": [
    "smartStopWords = {}"
   ]
  },
  {
   "cell_type": "code",
   "execution_count": 6,
   "metadata": {
    "collapsed": true
   },
   "outputs": [],
   "source": [
    "smartStopWords = open('smartstop.txt', 'r').read().splitlines()"
   ]
  },
  {
   "cell_type": "code",
   "execution_count": 7,
   "metadata": {
    "collapsed": true
   },
   "outputs": [],
   "source": [
    "for novel in books:\n",
    "    yankee = books[0]\n",
    "    dubliners = books[1]\n",
    "    heart_dark = books[2]\n",
    "    huck_finn = books[3]\n",
    "    iliad = books[4]\n",
    "    lord_jim = books[5]\n",
    "    mansfield = books[6]\n",
    "    mississippi = books[7]\n",
    "    northanger = books[8]\n",
    "    nostromo = books [9]\n",
    "    odyssey = books[10]\n",
    "    persuasion = books[11]\n",
    "    portrait = books[12]\n",
    "    pride_prej = books[13]\n",
    "    prince_paup = books[14]\n",
    "    secret_agent = books[15]\n",
    "    sense_bility = books[16]\n",
    "    tom_sawyer = books[17]\n",
    "    tramp = books[18]\n",
    "    ulysses = books[19]"
   ]
  },
  {
   "cell_type": "code",
   "execution_count": 8,
   "metadata": {
    "collapsed": true
   },
   "outputs": [],
   "source": [
    "austen = [mansfield, northanger, persuasion, pride_prej, sense_bility]\n",
    "conrad = [heart_dark, lord_jim, nostromo, secret_agent]\n",
    "homer = [iliad, odyssey]\n",
    "joyce = [dubliners, portrait, ulysses]\n",
    "twain = [yankee, huck_finn, mississippi, prince_paup, tom_sawyer, tramp]"
   ]
  },
  {
   "cell_type": "code",
   "execution_count": 9,
   "metadata": {
    "collapsed": true
   },
   "outputs": [],
   "source": [
    "authors = [austen, conrad, homer, joyce, twain]"
   ]
  },
  {
   "cell_type": "code",
   "execution_count": 10,
   "metadata": {
    "collapsed": true
   },
   "outputs": [],
   "source": [
    "contents = re.sub('\\'s|(\\r\\n)|-+|[\"_]', ' ', all_text)"
   ]
  },
  {
   "cell_type": "code",
   "execution_count": 11,
   "metadata": {
    "collapsed": true
   },
   "outputs": [],
   "source": [
    "sen_list = nltk.tokenize.sent_tokenize(contents.strip())"
   ]
  },
  {
   "cell_type": "code",
   "execution_count": 12,
   "metadata": {
    "collapsed": true
   },
   "outputs": [],
   "source": [
    "word_list = nltk.tokenize.word_tokenize(contents.strip())"
   ]
  },
  {
   "cell_type": "code",
   "execution_count": 13,
   "metadata": {
    "collapsed": true
   },
   "outputs": [],
   "source": [
    "f_dist = nltk.FreqDist(word_list)\n",
    "vocab = list(f_dist.keys())"
   ]
  },
  {
   "cell_type": "markdown",
   "metadata": {},
   "source": [
    "Individual Author Analysis"
   ]
  },
  {
   "cell_type": "code",
   "execution_count": 14,
   "metadata": {
    "collapsed": true
   },
   "outputs": [],
   "source": [
    "joyce_text = ' '.join(joyce).replace(\"\\x80\\x9d\", \" \").replace(\"\\x80\\x9c\", \" \").replace(\"\\x80\\x99\", \" \")"
   ]
  },
  {
   "cell_type": "code",
   "execution_count": 15,
   "metadata": {
    "collapsed": true
   },
   "outputs": [],
   "source": [
    "joyce_contents = re.sub('\\'s|(\\r\\n)|-+|[\"_]', ' ', joyce_text)"
   ]
  },
  {
   "cell_type": "code",
   "execution_count": 16,
   "metadata": {
    "collapsed": true
   },
   "outputs": [],
   "source": [
    "joyce_sen_list = nltk.tokenize.sent_tokenize(joyce_contents.strip())"
   ]
  },
  {
   "cell_type": "code",
   "execution_count": 17,
   "metadata": {
    "collapsed": true
   },
   "outputs": [],
   "source": [
    "joyce_word_list = nltk.tokenize.word_tokenize(joyce_contents.strip())"
   ]
  },
  {
   "cell_type": "code",
   "execution_count": 18,
   "metadata": {},
   "outputs": [
    {
     "data": {
      "text/plain": [
       "[('the', 18500),\n",
       " (',', 16774),\n",
       " ('.', 13912),\n",
       " ('and', 11134),\n",
       " ('of', 9004),\n",
       " ('a', 7575),\n",
       " ('to', 7055),\n",
       " ('in', 5014),\n",
       " ('he', 4916),\n",
       " ('was', 4163)]"
      ]
     },
     "execution_count": 18,
     "metadata": {},
     "output_type": "execute_result"
    }
   ],
   "source": [
    "f_dist = nltk.FreqDist(joyce_word_list)\n",
    "f_dist.most_common(10)"
   ]
  },
  {
   "cell_type": "markdown",
   "metadata": {},
   "source": []
  },
  {
   "cell_type": "code",
   "execution_count": 19,
   "metadata": {
    "collapsed": true
   },
   "outputs": [],
   "source": [
    "cleanWords = []\n",
    "senLenDist = []\n",
    "pronDist = []\n",
    "conjDist = []\n",
    "sentences = []\n",
    "totalWords = 0\n",
    "wordLenDist = []\n",
    "totalSyllables = 0"
   ]
  },
  {
   "cell_type": "code",
   "execution_count": 20,
   "metadata": {
    "collapsed": true
   },
   "outputs": [],
   "source": [
    "for sentence in joyce_sen_list:\n",
    "    if sentence != \".\":\n",
    "        pronCount = 0\n",
    "        conjCount = 0\n",
    "        sentences.append(sentence)\n",
    "        sentenceWords = re.findall(r\"[\\w']+\", sentence)\n",
    "        totalWords += len(sentenceWords)\n",
    "        senLenDist.append(len(sentenceWords))\n",
    "        for word in sentenceWords:\n",
    "                if word not in smartStopWords:\n",
    "                    cleanWords.append(word)"
   ]
  },
  {
   "cell_type": "code",
   "execution_count": 21,
   "metadata": {},
   "outputs": [
    {
     "data": {
      "text/plain": [
       "292065"
      ]
     },
     "execution_count": 21,
     "metadata": {},
     "output_type": "execute_result"
    }
   ],
   "source": [
    "totalWords"
   ]
  },
  {
   "cell_type": "code",
   "execution_count": 22,
   "metadata": {},
   "outputs": [
    {
     "data": {
      "text/plain": [
       "[('mr', 768),\n",
       " ('man', 586),\n",
       " ('time', 519),\n",
       " ('stephen', 438),\n",
       " ('made', 429),\n",
       " ('good', 419),\n",
       " ('back', 326),\n",
       " ('day', 321),\n",
       " ('eyes', 308),\n",
       " ('long', 305)]"
      ]
     },
     "execution_count": 22,
     "metadata": {},
     "output_type": "execute_result"
    }
   ],
   "source": [
    "f_dist_clean = nltk.FreqDist(cleanWords)\n",
    "f_dist_clean.most_common(10)"
   ]
  },
  {
   "cell_type": "code",
   "execution_count": 28,
   "metadata": {},
   "outputs": [
    {
     "data": {
      "image/png": "[encoded data removed]",
      "text/plain": [
       "<matplotlib.figure.Figure at 0x1819445bd68>"
      ]
     },
     "metadata": {},
     "output_type": "display_data"
    }
   ],
   "source": [
    "f_dist_clean.plot(30, cumulative=False)"
   ]
  }
 ],
 "metadata": {
  "kernelspec": {
   "display_name": "Python 3",
   "language": "python",
   "name": "python3"
  },
  "language_info": {
   "codemirror_mode": {
    "name": "ipython",
    "version": 3
   },
   "file_extension": ".py",
   "mimetype": "text/x-python",
   "name": "python",
   "nbconvert_exporter": "python",
   "pygments_lexer": "ipython3",
   "version": "3.6.0"
  }
 },
 "nbformat": 4,
 "nbformat_minor": 2
}
